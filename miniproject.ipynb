{
  "nbformat": 4,
  "nbformat_minor": 0,
  "metadata": {
    "colab": {
      "name": "miniproject.ipynb",
      "provenance": [],
      "collapsed_sections": [],
      "mount_file_id": "1-SOssT1VUTULyvbY7sHdTnvte9-yp5gx",
      "authorship_tag": "ABX9TyNLLNy92e2OyH6QDB7Uuj93",
      "include_colab_link": true
    },
    "kernelspec": {
      "name": "python3",
      "display_name": "Python 3"
    }
  },
  "cells": [
    {
      "cell_type": "markdown",
      "metadata": {
        "id": "view-in-github",
        "colab_type": "text"
      },
      "source": [
        "<a href=\"https://colab.research.google.com/github/NarsinAshritha/ML_miniproject/blob/main/miniproject.ipynb\" target=\"_parent\"><img src=\"https://colab.research.google.com/assets/colab-badge.svg\" alt=\"Open In Colab\"/></a>"
      ]
    },
    {
      "cell_type": "code",
      "metadata": {
        "id": "O11zTvgzM6fd",
        "outputId": "5803f5b8-c7fc-4c11-8eb9-dd0401ff9ec1",
        "colab": {
          "base_uri": "https://localhost:8080/",
          "height": 105
        }
      },
      "source": [
        "!pip install bing-image-downloader"
      ],
      "execution_count": 1,
      "outputs": [
        {
          "output_type": "stream",
          "text": [
            "Collecting bing-image-downloader\n",
            "  Downloading https://files.pythonhosted.org/packages/0d/bf/537a61030b84ae4cd5022d5c7b014fd9bc3ce7c02358919153a6658a61d3/bing_image_downloader-1.0.4-py3-none-any.whl\n",
            "Installing collected packages: bing-image-downloader\n",
            "Successfully installed bing-image-downloader-1.0.4\n"
          ],
          "name": "stdout"
        }
      ]
    },
    {
      "cell_type": "code",
      "metadata": {
        "id": "t1ER2-PYNAF0",
        "outputId": "7f94f6d4-3924-486d-e1e9-ab57b747cbbe",
        "colab": {
          "base_uri": "https://localhost:8080/",
          "height": 1000
        }
      },
      "source": [
        "import bing_image_downloader\n",
        "!mkdir images\n",
        "from bing_image_downloader import downloader\n",
        "downloader.download('apple fruit', limit=30,  output_dir='images', adult_filter_off=True, force_replace=False, timeout=60)\n",
        "downloader.download('yellow mango fruit', limit=30,  output_dir='images', adult_filter_off=True, force_replace=False, timeout=60)\n"
      ],
      "execution_count": 2,
      "outputs": [
        {
          "output_type": "stream",
          "text": [
            "\n",
            "\n",
            "[!!]Indexing page: 1\n",
            "\n",
            "[%] Indexed 30 Images on Page 1.\n",
            "\n",
            "===============================================\n",
            "\n",
            "[%] Downloading Image #1 from https://www.healthbenefitstimes.com/9/gallery/apple/Apple-fruit.jpg\n",
            "[%] File Downloaded !\n",
            "\n",
            "[%] Downloading Image #2 from http://www.chhajedgarden.com/media/catalog/product/cache/1/image/9df78eab33525d08d6e5fb8d27136e95/0/4/04_apples.jpg\n",
            "[%] File Downloaded !\n",
            "\n",
            "[%] Downloading Image #3 from https://jooinn.com/images/red-apple-fruit-1.jpg\n",
            "[%] File Downloaded !\n",
            "\n",
            "[%] Downloading Image #4 from https://www.theayurveda.org/wp-content/uploads/2015/08/Apple-fruit.jpg\n",
            "[%] File Downloaded !\n",
            "\n",
            "[%] Downloading Image #5 from https://dairyfoodblog.files.wordpress.com/2017/08/apple4.jpg\n",
            "[%] File Downloaded !\n",
            "\n",
            "[%] Downloading Image #6 from http://treefruit.wsu.edu/wp-content/uploads/2014/10/clonal-apples.jpg\n",
            "[%] File Downloaded !\n",
            "\n",
            "[%] Downloading Image #7 from http://1.bp.blogspot.com/-sm2PC8KW-l4/UDP7Z4Mz80I/AAAAAAAAB6g/j91oeuESMcs/s1600/apple.jpg\n",
            "[%] File Downloaded !\n",
            "\n",
            "[%] Downloading Image #8 from http://aggie-horticulture.tamu.edu/vegetable/files/2011/10/apple26.jpg\n",
            "[%] File Downloaded !\n",
            "\n",
            "[%] Downloading Image #9 from https://www.znaturalfoods.com/1501-thickbox_default/apple-powder-organic.jpg\n",
            "[%] File Downloaded !\n",
            "\n",
            "[%] Downloading Image #10 from http://images5.fanpop.com/image/photos/31100000/apples-fruit-31188668-1707-2560.jpg\n",
            "[%] File Downloaded !\n",
            "\n",
            "[%] Downloading Image #11 from http://images6.fanpop.com/image/photos/34900000/Apple-fruit-34914774-693-693.jpg\n",
            "[%] File Downloaded !\n",
            "\n",
            "[%] Downloading Image #12 from http://pluspng.com/img-png/fruits-png-hd-apple-fruit-png-image-4800.png\n",
            "[%] File Downloaded !\n",
            "\n",
            "[%] Downloading Image #13 from http://medilifefood.com/wp-content/uploads/2019/10/purepng.com-red-appleappleapplesfruitsweet-1701527180174lrnig.png\n",
            "[%] File Downloaded !\n",
            "\n",
            "[%] Downloading Image #14 from https://get.pxhere.com/photo/apples-apple-red-apples-fruit-raw-food-healthy-food-eating-healthy-food-produce-local-food-still-life-photography-1453957.jpg\n",
            "[%] File Downloaded !\n",
            "\n",
            "[%] Downloading Image #15 from http://ayay.co.uk/backgrounds/food_and_drink/fruit/red-apple.jpg\n",
            "[%] File Downloaded !\n",
            "\n",
            "[%] Downloading Image #16 from https://image.shutterstock.com/z/stock-photo-isolated-apples-whole-red-apple-fruit-with-slice-cut-isolated-on-white-with-clipping-path-575378506.jpg\n",
            "[%] File Downloaded !\n",
            "\n",
            "[%] Downloading Image #17 from http://pluspng.com/img-png/apple-fruit-png-food-fruit-apple-fresh-apples-red-apple-762.png\n",
            "[%] File Downloaded !\n",
            "\n",
            "[%] Downloading Image #18 from https://5.imimg.com/data5/HF/CW/MY-51857835/organic-apple-fruit-500x500.jpg\n",
            "[%] File Downloaded !\n",
            "\n",
            "[%] Downloading Image #19 from https://www.wcrf-uk.org/sites/default/files/Apple_A-Z Fruit1.jpg\n",
            "[!] Issue getting: https://www.wcrf-uk.org/sites/default/files/Apple_A-Z Fruit1.jpg\n",
            "[!] Error:: URL can't contain control characters. '/sites/default/files/Apple_A-Z Fruit1.jpg' (found at least ' ')\n",
            "[%] Downloading Image #19 from https://thumbs.dreamstime.com/z/red-apple-fruit-leaf-13335700.jpg\n",
            "[%] File Downloaded !\n",
            "\n",
            "[%] Downloading Image #20 from http://www.fruitshare.ca/wp-content/uploads/2011/08/apple.jpg\n",
            "[%] File Downloaded !\n",
            "\n",
            "[%] Downloading Image #21 from http://www.reportingday.com/wp-content/uploads/2018/07/Many-Apple-Fruit-HD-Images-Download.png\n",
            "[%] File Downloaded !\n",
            "\n",
            "[%] Downloading Image #22 from https://bangaloreagrico.in/wp-content/uploads/2018/01/apple-plant-bangalore-agrico.jpg\n",
            "[%] File Downloaded !\n",
            "\n",
            "[%] Downloading Image #23 from https://tiimg.tistatic.com/fp/1/005/527/best-grade-fresh-apple-fruit-825.jpg\n",
            "[Error]Invalid image, not saving https://tiimg.tistatic.com/fp/1/005/527/best-grade-fresh-apple-fruit-825.jpg\n",
            "\n",
            "[!] Issue getting: https://tiimg.tistatic.com/fp/1/005/527/best-grade-fresh-apple-fruit-825.jpg\n",
            "[!] Error:: No active exception to reraise\n",
            "[%] Downloading Image #23 from http://4.bp.blogspot.com/-1Z7ioW_oXaY/T3rfRDvgcmI/AAAAAAAAAAc/ltkaRP0Wuug/s1600/Apple.png\n",
            "[%] File Downloaded !\n",
            "\n",
            "[%] Downloading Image #24 from http://www.vigorous-tech.com/d/pic/3-fruit-powder/red-apple.jpg\n",
            "[%] File Downloaded !\n",
            "\n",
            "[%] Downloading Image #25 from http://www.pngall.com/wp-content/uploads/2016/04/Apple-Fruit-Transparent.png\n",
            "[%] File Downloaded !\n",
            "\n",
            "[%] Downloading Image #26 from https://commonsensehealth.com/wp-content/uploads/2013/07/apples.jpg\n",
            "[%] File Downloaded !\n",
            "\n",
            "[%] Downloading Image #27 from http://www.thegunnysack.com/wp-content/uploads/2016/03/Apple-Fruit-Basket-Recipe.jpg\n",
            "[%] File Downloaded !\n",
            "\n",
            "[%] Downloading Image #28 from http://dreamicus.com/data/apple/apple-05.jpg\n",
            "[%] File Downloaded !\n",
            "\n",
            "\n",
            "\n",
            "[!!]Indexing page: 2\n",
            "\n",
            "[%] Indexed 35 Images on Page 2.\n",
            "\n",
            "===============================================\n",
            "\n",
            "[%] Downloading Image #29 from https://www.healthbenefitstimes.com/9/gallery/apple/Apple-fruit.jpg\n",
            "[%] File Downloaded !\n",
            "\n",
            "[%] Downloading Image #30 from http://www.chhajedgarden.com/media/catalog/product/cache/1/image/9df78eab33525d08d6e5fb8d27136e95/0/4/04_apples.jpg\n",
            "[%] File Downloaded !\n",
            "\n",
            "\n",
            "\n",
            "[%] Done. Downloaded 30 images.\n",
            "\n",
            "===============================================\n",
            "\n",
            "\n",
            "\n",
            "[!!]Indexing page: 1\n",
            "\n",
            "[%] Indexed 30 Images on Page 1.\n",
            "\n",
            "===============================================\n",
            "\n",
            "[%] Downloading Image #1 from https://cdn.shopify.com/s/files/1/0076/4339/8233/products/yellow-mango.jpg?v=1544861632\n",
            "[%] File Downloaded !\n",
            "\n",
            "[%] Downloading Image #2 from http://www.reportingday.com/wp-content/uploads/2018/06/Yellow-Mango-Images-Download-1.jpg\n",
            "[%] File Downloaded !\n",
            "\n",
            "[%] Downloading Image #3 from http://www.happylifestyletips.com/wp-content/uploads/2015/05/Mango-an-Antioxidant.jpg\n",
            "[%] File Downloaded !\n",
            "\n",
            "[%] Downloading Image #4 from https://cdn.shopify.com/s/files/1/1891/6405/products/shop-online-from-sri-lanka-fruits-yellow-mango-fresh-food-in-dubai-and-abu-dhabi-1129587179560_480x480.jpg?v=1536789602\n",
            "[%] File Downloaded !\n",
            "\n",
            "[%] Downloading Image #5 from https://media.buzzle.com/media/images-en/photos/fruits/1200-27449799-yellow-mango.jpg\n",
            "[%] File Downloaded !\n",
            "\n",
            "[%] Downloading Image #6 from https://thumbs.dreamstime.com/z/yellow-mango-fruit-background-32629917.jpg\n",
            "[%] File Downloaded !\n",
            "\n",
            "[%] Downloading Image #7 from https://image.freepik.com/free-photo/sweet-yellow-mango-fruit-summer-wood-table_7451-45.jpg\n",
            "[%] File Downloaded !\n",
            "\n",
            "[%] Downloading Image #8 from https://lovebackyard.com/wp-content/uploads/2017/03/honey-mangoes.jpg\n",
            "[%] File Downloaded !\n",
            "\n",
            "[%] Downloading Image #9 from https://thumbs.dreamstime.com/b/yellow-sweet-mango-fruit-asia-fruit-natural-background-54511133.jpg\n",
            "[%] File Downloaded !\n",
            "\n",
            "[%] Downloading Image #10 from https://thumbs.dreamstime.com/z/three-yellow-mango-leaf-focus-center-fruit-31117211.jpg\n",
            "[%] File Downloaded !\n",
            "\n",
            "[%] Downloading Image #11 from https://thumbs.dreamstime.com/z/yellow-mango-23269526.jpg\n",
            "[%] File Downloaded !\n",
            "\n",
            "[%] Downloading Image #12 from https://static1.bigstockphoto.com/5/7/1/large1500/175017139.jpg\n",
            "[%] File Downloaded !\n",
            "\n",
            "[%] Downloading Image #13 from https://c8.alamy.com/comp/WFKTXA/isolated-mango-fruit-tree-branch-with-leaves-and-one-yellow-mango-isolated-on-white-background-with-clipping-path-WFKTXA.jpg\n",
            "[%] File Downloaded !\n",
            "\n",
            "[%] Downloading Image #14 from https://thumbs.dreamstime.com/z/yellow-mango-fruit-9354733.jpg\n",
            "[%] File Downloaded !\n",
            "\n",
            "[%] Downloading Image #15 from https://thumbs.dreamstime.com/z/yellow-ripe-mango-tropical-fruit-leaf-isolated-white-background-organic-ripe-yellow-mango-tropical-fruit-123879413.jpg\n",
            "[%] File Downloaded !\n",
            "\n",
            "[%] Downloading Image #16 from http://www.namdharithaifresh.com/wp-content/uploads/2017/07/s_28387085_xl.jpg\n",
            "[%] File Downloaded !\n",
            "\n",
            "[%] Downloading Image #17 from https://thumbs.dreamstime.com/z/sweet-yellow-mango-fruit-summer-wood-table-sweet-yellow-mango-fruit-summer-wood-table-113907226.jpg\n",
            "[%] File Downloaded !\n",
            "\n",
            "[%] Downloading Image #18 from https://thumbs.dreamstime.com/z/yellow-mango-closeup-leaf-49935262.jpg\n",
            "[%] File Downloaded !\n",
            "\n",
            "[%] Downloading Image #19 from https://www.mango.org/wp-content/uploads/2017/11/houney-variety.jpg\n",
            "[%] File Downloaded !\n",
            "\n",
            "[%] Downloading Image #20 from http://all4desktop.com/data_images/original/4241756-mango.jpg\n",
            "[%] File Downloaded !\n",
            "\n",
            "[%] Downloading Image #21 from https://4.imimg.com/data4/AT/RM/MY-29356566/indian-mangoes-500x500.jpg\n",
            "[%] File Downloaded !\n",
            "\n",
            "[%] Downloading Image #22 from https://thumbs.dreamstime.com/z/yellow-mango-fruit-43052482.jpg\n",
            "[%] File Downloaded !\n",
            "\n",
            "[%] Downloading Image #23 from https://www.mygreenmart.in/wp-content/uploads/2017/02/Yellow-Mango.jpg\n",
            "[%] File Downloaded !\n",
            "\n",
            "[%] Downloading Image #24 from https://thumbs.dreamstime.com/z/yellow-mango-thai-fruit-favorite-26233851.jpg\n",
            "[%] File Downloaded !\n",
            "\n",
            "[%] Downloading Image #25 from https://thumbs.dreamstime.com/z/yellow-mango-23822977.jpg\n",
            "[%] File Downloaded !\n",
            "\n",
            "[%] Downloading Image #26 from https://i.pinimg.com/originals/52/a0/f9/52a0f9008df9bbd348070397372417b3.jpg\n",
            "[%] File Downloaded !\n",
            "\n",
            "[%] Downloading Image #27 from https://hdwallpapers.move.pk/wp-content/uploads/2016/06/Yellow-mango-HD-wallpaper.jpg\n",
            "[%] File Downloaded !\n",
            "\n",
            "[%] Downloading Image #28 from http://thumbs.dreamstime.com/z/yellow-mango-bowl-thai-fruit-favorite-white-background-31056521.jpg\n",
            "[%] File Downloaded !\n",
            "\n",
            "[%] Downloading Image #29 from https://media.buzzle.com/media/images-en/gallery/vegetables/1200-177709673-mangoes.jpg\n",
            "[%] File Downloaded !\n",
            "\n",
            "[%] Downloading Image #30 from http://4.bp.blogspot.com/-VzuCS_iez-M/T_c2xKA6N5I/AAAAAAAAACk/H35U20YUJw8/s1600/mangoes_1535816_200.jpg\n",
            "[%] File Downloaded !\n",
            "\n"
          ],
          "name": "stdout"
        }
      ]
    },
    {
      "cell_type": "code",
      "metadata": {
        "id": "t6Hh3TWgvWFK"
      },
      "source": [
        ""
      ],
      "execution_count": 2,
      "outputs": []
    },
    {
      "cell_type": "code",
      "metadata": {
        "id": "gZQmY09Pk8Q0"
      },
      "source": [
        "#preproceesing of data\n",
        "import os                              #for moving around different folders\n",
        "import matplotlib.pyplot as plt       #for display of images\n",
        "import numpy as np                     #for numerical analysis\n",
        "from skimage.io import imread          #for reading images\n",
        "from skimage.transform import resize    #for normalizing all images to same size\n",
        "\n",
        "target=[]\n",
        "images=[]\n",
        "flat_data=[]\n",
        "DATADIR=\"/content/images\"\n",
        "CATEGORIES=['apple fruit','yellow mango fruit']\n",
        "for fruit in CATEGORIES:\n",
        "   class_num=CATEGORIES.index(fruit)\n",
        "  # print(class_num)\n",
        "   path=os.path.join(DATADIR,fruit)\n",
        "  # print(path)\n",
        "   for img in os.listdir(path):\n",
        "    #print(img)\n",
        "    img_array=imread(os.path.join(path,img))\n",
        "    #print(img_array)\n",
        "   # print(img_array.shape)\n",
        "    #plt.imshow(img_array)\n",
        "    img_resized=resize(img_array,(150,150,3))\n",
        "    flat_data.append(img_resized.flatten())\n",
        "    images.append(img_resized)    #not used anywhere just for reference\n",
        "    target.append(class_num)\n",
        "  "
      ],
      "execution_count": 3,
      "outputs": []
    },
    {
      "cell_type": "code",
      "metadata": {
        "id": "3sCOYLS5yA0Q"
      },
      "source": [
        "target=np.array(target)\n",
        "images=np.array(images)\n",
        "flat_data=np.array(flat_data)\n",
        "\n"
      ],
      "execution_count": 4,
      "outputs": []
    },
    {
      "cell_type": "code",
      "metadata": {
        "id": "4A1B8P3VyiOD"
      },
      "source": [
        "#flat_data             #sklearn normalises values from 0-255 to those between 0-1\n",
        "#len(flat_data[0])\n"
      ],
      "execution_count": 5,
      "outputs": []
    },
    {
      "cell_type": "code",
      "metadata": {
        "id": "5cZGQ2IIzYHl"
      },
      "source": [
        "#target"
      ],
      "execution_count": 6,
      "outputs": []
    },
    {
      "cell_type": "code",
      "metadata": {
        "id": "vyUfFDdDzpYz"
      },
      "source": [
        "unique,count=np.unique(target,return_counts=True)\n",
        "#plt.bar(CATEGORIES,count)"
      ],
      "execution_count": 7,
      "outputs": []
    },
    {
      "cell_type": "code",
      "metadata": {
        "id": "3QID14jw1u3z"
      },
      "source": [
        "from sklearn.model_selection import train_test_split\n",
        "x_train,x_test,y_train,y_test=train_test_split(flat_data,target,test_size=0.20,random_state=42)"
      ],
      "execution_count": 8,
      "outputs": []
    },
    {
      "cell_type": "code",
      "metadata": {
        "id": "sGribACW1kR9",
        "outputId": "df1a7d72-50ae-48da-d6b6-fb415f9294b0",
        "colab": {
          "base_uri": "https://localhost:8080/",
          "height": 272
        }
      },
      "source": [
        "from sklearn.model_selection import GridSearchCV\n",
        "from sklearn import svm\n",
        "# create a grid of hyper-parameters and just try all of their combinations (best is taken by GridSearchCV)\n",
        "param_grid=[\n",
        "            {'C':[10,100,1000],\"kernel\":['linear']},\n",
        "            {'C':[100,1000],\"kernel\":[\"sigmoid\"],\"gamma\":[0.001,0.0001]},\n",
        "            {'C':[10,100,1000],'kernel':['rbf'],'gamma':[0.01,0.001,0.0001]},\n",
        "]\n",
        "#whichever group(among given three groups) gives best pattern that is chosen by GridSearchCV \n",
        "svc=svm.SVC(probability=True)\n",
        "imgclf=GridSearchCV(svc,param_grid)\n",
        "imgclf.fit(x_train,y_train)"
      ],
      "execution_count": 9,
      "outputs": [
        {
          "output_type": "execute_result",
          "data": {
            "text/plain": [
              "GridSearchCV(cv=None, error_score=nan,\n",
              "             estimator=SVC(C=1.0, break_ties=False, cache_size=200,\n",
              "                           class_weight=None, coef0=0.0,\n",
              "                           decision_function_shape='ovr', degree=3,\n",
              "                           gamma='scale', kernel='rbf', max_iter=-1,\n",
              "                           probability=True, random_state=None, shrinking=True,\n",
              "                           tol=0.001, verbose=False),\n",
              "             iid='deprecated', n_jobs=None,\n",
              "             param_grid=[{'C': [10, 100, 1000], 'kernel': ['linear']},\n",
              "                         {'C': [100, 1000], 'gamma': [0.001, 0.0001],\n",
              "                          'kernel': ['sigmoid']},\n",
              "                         {'C': [10, 100, 1000], 'gamma': [0.01, 0.001, 0.0001],\n",
              "                          'kernel': ['rbf']}],\n",
              "             pre_dispatch='2*n_jobs', refit=True, return_train_score=False,\n",
              "             scoring=None, verbose=0)"
            ]
          },
          "metadata": {
            "tags": []
          },
          "execution_count": 9
        }
      ]
    },
    {
      "cell_type": "code",
      "metadata": {
        "id": "JExlI7NfHs0K",
        "outputId": "cc9bb7a5-e234-450b-e3fe-4bc3c74f9c4d",
        "colab": {
          "base_uri": "https://localhost:8080/",
          "height": 34
        }
      },
      "source": [
        "y_pred=imgclf.predict(x_test)\n",
        "y_pred"
      ],
      "execution_count": 10,
      "outputs": [
        {
          "output_type": "execute_result",
          "data": {
            "text/plain": [
              "array([0, 0, 1, 1, 0, 1, 1, 1, 0, 1, 1, 1])"
            ]
          },
          "metadata": {
            "tags": []
          },
          "execution_count": 10
        }
      ]
    },
    {
      "cell_type": "code",
      "metadata": {
        "id": "vtL4dU55IEiY",
        "outputId": "53970bd2-1458-413e-f2db-a9c0fd04d510",
        "colab": {
          "base_uri": "https://localhost:8080/",
          "height": 34
        }
      },
      "source": [
        "y_test"
      ],
      "execution_count": 11,
      "outputs": [
        {
          "output_type": "execute_result",
          "data": {
            "text/plain": [
              "array([0, 0, 1, 1, 0, 1, 1, 1, 0, 1, 1, 1])"
            ]
          },
          "metadata": {
            "tags": []
          },
          "execution_count": 11
        }
      ]
    },
    {
      "cell_type": "code",
      "metadata": {
        "id": "rHgE-GKMHRHV",
        "outputId": "4c080bc6-433b-42d2-bc38-8c86e44850e7",
        "colab": {
          "base_uri": "https://localhost:8080/",
          "height": 34
        }
      },
      "source": [
        "from sklearn.metrics import confusion_matrix,accuracy_score\n",
        "accuracy_score(y_pred,y_test)"
      ],
      "execution_count": 12,
      "outputs": [
        {
          "output_type": "execute_result",
          "data": {
            "text/plain": [
              "1.0"
            ]
          },
          "metadata": {
            "tags": []
          },
          "execution_count": 12
        }
      ]
    },
    {
      "cell_type": "code",
      "metadata": {
        "id": "wmCIUYScIQtF",
        "outputId": "92554507-4149-45e7-9d5c-d66e83d0f5a2",
        "colab": {
          "base_uri": "https://localhost:8080/",
          "height": 51
        }
      },
      "source": [
        "confusion_matrix(y_pred,y_test)"
      ],
      "execution_count": 13,
      "outputs": [
        {
          "output_type": "execute_result",
          "data": {
            "text/plain": [
              "array([[4, 0],\n",
              "       [0, 8]])"
            ]
          },
          "metadata": {
            "tags": []
          },
          "execution_count": 13
        }
      ]
    },
    {
      "cell_type": "code",
      "metadata": {
        "id": "UC0XHLepJZEm"
      },
      "source": [
        "#save the model using pickle library\n",
        "import pickle\n",
        "pickle.dump(imgclf,open('imgclf_model.p','wb'))\n",
        "model=pickle.load(open('imgclf_model.p',\"rb\"))\n"
      ],
      "execution_count": 14,
      "outputs": []
    },
    {
      "cell_type": "code",
      "metadata": {
        "id": "-0jobbxrLKmf",
        "outputId": "33df959c-03c1-4b62-d889-bcaeb681cc0e",
        "colab": {
          "base_uri": "https://localhost:8080/",
          "height": 340
        }
      },
      "source": [
        "#testing for a new image\n",
        "flat_data=[]\n",
        "url=input(\"enter the url of the testing image:\")\n",
        "img= imread(url)\n",
        "img_resized=resize(img,(150,150,3))\n",
        "flat_data.append(img_resized.flatten())\n",
        "flat_data=np.array(flat_data)\n",
        "print(img.shape)\n",
        "plt.imshow(img_resized)\n",
        "y_out=model.predict(flat_data)\n",
        "y_out=CATEGORIES[y_out[0]]\n",
        "print(\"The predicted output is:\",y_out)"
      ],
      "execution_count": 15,
      "outputs": [
        {
          "output_type": "stream",
          "text": [
            "enter the url of the testing image:https://st.depositphotos.com/1642482/3698/i/950/depositphotos_36983317-stock-photo-mango.jpg\n",
            "(1024, 1024, 3)\n",
            "The predicted output is: yellow mango fruit\n"
          ],
          "name": "stdout"
        },
        {
          "output_type": "display_data",
          "data": {
            "image/png": "[encoded data removed]",
            "text/plain": [
              "<Figure size 432x288 with 1 Axes>"
            ]
          },
          "metadata": {
            "tags": [],
            "needs_background": "light"
          }
        }
      ]
    },
    {
      "cell_type": "code",
      "metadata": {
        "id": "XeLvw-_eK9IR"
      },
      "source": [
        ""
      ],
      "execution_count": 15,
      "outputs": []
    },
    {
      "cell_type": "code",
      "metadata": {
        "id": "8izOnrKhGk82"
      },
      "source": [
        ""
      ],
      "execution_count": 15,
      "outputs": []
    },
    {
      "cell_type": "markdown",
      "metadata": {
        "id": "0qzYpkXWmVwX"
      },
      "source": [
        ""
      ]
    },
    {
      "cell_type": "code",
      "metadata": {
        "id": "JJUx0jdqwK2p"
      },
      "source": [
        ""
      ],
      "execution_count": 15,
      "outputs": []
    },
    {
      "cell_type": "markdown",
      "metadata": {
        "id": "cucNE6aTMF0z"
      },
      "source": [
        "# New Section"
      ]
    },
    {
      "cell_type": "code",
      "metadata": {
        "id": "ee_x6UujN9Dw"
      },
      "source": [
        "\n"
      ],
      "execution_count": 15,
      "outputs": []
    }
  ]
}