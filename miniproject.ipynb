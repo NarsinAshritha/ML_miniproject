{
  "nbformat": 4,
  "nbformat_minor": 0,
  "metadata": {
    "colab": {
      "name": "miniproject.ipynb",
      "provenance": [],
      "collapsed_sections": [],
      "authorship_tag": "ABX9TyNUZo/1OjghSzfzZ87hu40m",
      "include_colab_link": true
    },
    "kernelspec": {
      "name": "python3",
      "display_name": "Python 3"
    }
  },
  "cells": [
    {
      "cell_type": "markdown",
      "metadata": {
        "id": "view-in-github",
        "colab_type": "text"
      },
      "source": [
        "<a href=\"https://colab.research.google.com/github/NarsinAshritha/ML_miniproject/blob/main/miniproject.ipynb\" target=\"_parent\"><img src=\"https://colab.research.google.com/assets/colab-badge.svg\" alt=\"Open In Colab\"/></a>"
      ]
    },
    {
      "cell_type": "code",
      "metadata": {
        "id": "O11zTvgzM6fd",
        "outputId": "94c2cc83-99ff-4302-a7ab-b5d0cd36a32f",
        "colab": {
          "base_uri": "https://localhost:8080/",
          "height": 34
        }
      },
      "source": [
        "!pip install bing-image-downloader"
      ],
      "execution_count": 81,
      "outputs": [
        {
          "output_type": "stream",
          "text": [
            "Requirement already satisfied: bing-image-downloader in /usr/local/lib/python3.6/dist-packages (1.0.4)\n"
          ],
          "name": "stdout"
        }
      ]
    },
    {
      "cell_type": "code",
      "metadata": {
        "id": "t1ER2-PYNAF0",
        "outputId": "0f3031e7-4a25-4d33-e477-f43d9d0e4488",
        "colab": {
          "base_uri": "https://localhost:8080/",
          "height": 1000
        }
      },
      "source": [
        "import bing_image_downloader\n",
        "!mkdir images\n",
        "from bing_image_downloader import downloader\n",
        "downloader.download('apple fruit', limit=30,  output_dir='images', adult_filter_off=True, force_replace=False, timeout=60)\n",
        "downloader.download('yellow mango fruit', limit=30,  output_dir='images', adult_filter_off=True, force_replace=False, timeout=60)\n"
      ],
      "execution_count": 82,
      "outputs": [
        {
          "output_type": "stream",
          "text": [
            "mkdir: cannot create directory ‘images’: File exists\n",
            "\n",
            "\n",
            "[!!]Indexing page: 1\n",
            "\n",
            "[%] Indexed 30 Images on Page 1.\n",
            "\n",
            "===============================================\n",
            "\n",
            "[%] Downloading Image #1 from https://www.healthbenefitstimes.com/9/gallery/apple/Apple-fruit.jpg\n",
            "[%] File Downloaded !\n",
            "\n",
            "[%] Downloading Image #2 from http://www.chhajedgarden.com/media/catalog/product/cache/1/image/9df78eab33525d08d6e5fb8d27136e95/0/4/04_apples.jpg\n",
            "[%] File Downloaded !\n",
            "\n",
            "[%] Downloading Image #3 from https://jooinn.com/images/red-apple-fruit-1.jpg\n",
            "[%] File Downloaded !\n",
            "\n",
            "[%] Downloading Image #4 from https://www.theayurveda.org/wp-content/uploads/2015/08/Apple-fruit.jpg\n",
            "[%] File Downloaded !\n",
            "\n",
            "[%] Downloading Image #5 from https://dairyfoodblog.files.wordpress.com/2017/08/apple4.jpg\n",
            "[%] File Downloaded !\n",
            "\n",
            "[%] Downloading Image #6 from http://treefruit.wsu.edu/wp-content/uploads/2014/10/clonal-apples.jpg\n",
            "[%] File Downloaded !\n",
            "\n",
            "[%] Downloading Image #7 from http://aggie-horticulture.tamu.edu/vegetable/files/2011/10/apple26.jpg\n",
            "[%] File Downloaded !\n",
            "\n",
            "[%] Downloading Image #8 from http://1.bp.blogspot.com/-sm2PC8KW-l4/UDP7Z4Mz80I/AAAAAAAAB6g/j91oeuESMcs/s1600/apple.jpg\n",
            "[%] File Downloaded !\n",
            "\n",
            "[%] Downloading Image #9 from https://www.znaturalfoods.com/1501-thickbox_default/apple-powder-organic.jpg\n",
            "[%] File Downloaded !\n",
            "\n",
            "[%] Downloading Image #10 from http://images5.fanpop.com/image/photos/31100000/apples-fruit-31188668-1707-2560.jpg\n",
            "[%] File Downloaded !\n",
            "\n",
            "[%] Downloading Image #11 from http://images6.fanpop.com/image/photos/34900000/Apple-fruit-34914774-693-693.jpg\n",
            "[%] File Downloaded !\n",
            "\n",
            "[%] Downloading Image #12 from http://pluspng.com/img-png/fruits-png-hd-apple-fruit-png-image-4800.png\n",
            "[%] File Downloaded !\n",
            "\n",
            "[%] Downloading Image #13 from http://www.reportingday.com/wp-content/uploads/2018/07/Many-Apple-Fruit-HD-Images-Download.png\n",
            "[%] File Downloaded !\n",
            "\n",
            "[%] Downloading Image #14 from http://medilifefood.com/wp-content/uploads/2019/10/purepng.com-red-appleappleapplesfruitsweet-1701527180174lrnig.png\n",
            "[%] File Downloaded !\n",
            "\n",
            "[%] Downloading Image #15 from https://get.pxhere.com/photo/apples-apple-red-apples-fruit-raw-food-healthy-food-eating-healthy-food-produce-local-food-still-life-photography-1453957.jpg\n",
            "[%] File Downloaded !\n",
            "\n",
            "[%] Downloading Image #16 from http://ayay.co.uk/backgrounds/food_and_drink/fruit/red-apple.jpg\n",
            "[%] File Downloaded !\n",
            "\n",
            "[%] Downloading Image #17 from https://image.shutterstock.com/z/stock-photo-isolated-apples-whole-red-apple-fruit-with-slice-cut-isolated-on-white-with-clipping-path-575378506.jpg\n",
            "[%] File Downloaded !\n",
            "\n",
            "[%] Downloading Image #18 from https://get.pxhere.com/photo/apple-plant-fruit-food-produce-fruits-apples-flowering-plant-rose-family-land-plant-rose-order-1169843.jpg\n",
            "[%] File Downloaded !\n",
            "\n",
            "[%] Downloading Image #19 from http://pluspng.com/img-png/apple-fruit-png-food-fruit-apple-fresh-apples-red-apple-762.png\n",
            "[%] File Downloaded !\n",
            "\n",
            "[%] Downloading Image #20 from https://5.imimg.com/data5/HF/CW/MY-51857835/organic-apple-fruit-500x500.jpg\n",
            "[%] File Downloaded !\n",
            "\n",
            "[%] Downloading Image #21 from https://thumbs.dreamstime.com/z/red-apple-fruit-leaf-13335700.jpg\n",
            "[%] File Downloaded !\n",
            "\n",
            "[%] Downloading Image #22 from https://bangaloreagrico.in/wp-content/uploads/2018/01/apple-plant-bangalore-agrico.jpg\n",
            "[%] File Downloaded !\n",
            "\n",
            "[%] Downloading Image #23 from https://www.wcrf-uk.org/sites/default/files/Apple_A-Z%20Fruit1.jpg\n",
            "[%] File Downloaded !\n",
            "\n",
            "[%] Downloading Image #24 from https://ecipek.com/wp-content/uploads/2019/01/Apple-Fruit-1.jpg\n",
            "[%] File Downloaded !\n",
            "\n",
            "[%] Downloading Image #25 from http://www.fruitshare.ca/wp-content/uploads/2011/08/apple.jpg\n",
            "[%] File Downloaded !\n",
            "\n",
            "[%] Downloading Image #26 from https://commonsensehealth.com/wp-content/uploads/2013/07/apples.jpg\n",
            "[%] File Downloaded !\n",
            "\n",
            "[%] Downloading Image #27 from https://tiimg.tistatic.com/fp/1/005/527/best-grade-fresh-apple-fruit-825.jpg\n",
            "[Error]Invalid image, not saving https://tiimg.tistatic.com/fp/1/005/527/best-grade-fresh-apple-fruit-825.jpg\n",
            "\n",
            "[!] Issue getting: https://tiimg.tistatic.com/fp/1/005/527/best-grade-fresh-apple-fruit-825.jpg\n",
            "[!] Error:: No active exception to reraise\n",
            "[%] Downloading Image #27 from http://www.thegunnysack.com/wp-content/uploads/2016/03/Apple-Fruit-Basket-Recipe.jpg\n",
            "[%] File Downloaded !\n",
            "\n",
            "[%] Downloading Image #28 from http://www.pngall.com/wp-content/uploads/2016/04/Apple-Fruit-Transparent.png\n",
            "[%] File Downloaded !\n",
            "\n",
            "[%] Downloading Image #29 from http://4.bp.blogspot.com/-1Z7ioW_oXaY/T3rfRDvgcmI/AAAAAAAAAAc/ltkaRP0Wuug/s1600/Apple.png\n",
            "[%] File Downloaded !\n",
            "\n",
            "\n",
            "\n",
            "[!!]Indexing page: 2\n",
            "\n",
            "[%] Indexed 35 Images on Page 2.\n",
            "\n",
            "===============================================\n",
            "\n",
            "[%] Downloading Image #30 from https://www.healthbenefitstimes.com/9/gallery/apple/Apple-fruit.jpg\n",
            "[%] File Downloaded !\n",
            "\n",
            "\n",
            "\n",
            "[%] Done. Downloaded 30 images.\n",
            "\n",
            "===============================================\n",
            "\n",
            "\n",
            "\n",
            "[!!]Indexing page: 1\n",
            "\n",
            "[%] Indexed 30 Images on Page 1.\n",
            "\n",
            "===============================================\n",
            "\n",
            "[%] Downloading Image #1 from https://cdn.shopify.com/s/files/1/0076/4339/8233/products/yellow-mango.jpg?v=1544861632\n",
            "[%] File Downloaded !\n",
            "\n",
            "[%] Downloading Image #2 from http://www.reportingday.com/wp-content/uploads/2018/06/Yellow-Mango-Images-Download-1.jpg\n",
            "[%] File Downloaded !\n",
            "\n",
            "[%] Downloading Image #3 from http://www.happylifestyletips.com/wp-content/uploads/2015/05/Mango-an-Antioxidant.jpg\n",
            "[%] File Downloaded !\n",
            "\n",
            "[%] Downloading Image #4 from https://cdn.shopify.com/s/files/1/1891/6405/products/shop-online-from-sri-lanka-fruits-yellow-mango-fresh-food-in-dubai-and-abu-dhabi-1129587179560_480x480.jpg?v=1536789602\n",
            "[%] File Downloaded !\n",
            "\n",
            "[%] Downloading Image #5 from https://media.buzzle.com/media/images-en/photos/fruits/1200-27449799-yellow-mango.jpg\n",
            "[%] File Downloaded !\n",
            "\n",
            "[%] Downloading Image #6 from https://thumbs.dreamstime.com/z/yellow-mango-fruit-background-32629917.jpg\n",
            "[%] File Downloaded !\n",
            "\n",
            "[%] Downloading Image #7 from https://image.freepik.com/free-photo/sweet-yellow-mango-fruit-summer-wood-table_7451-45.jpg\n",
            "[%] File Downloaded !\n",
            "\n",
            "[%] Downloading Image #8 from https://lovebackyard.com/wp-content/uploads/2017/03/honey-mangoes.jpg\n",
            "[%] File Downloaded !\n",
            "\n",
            "[%] Downloading Image #9 from https://thumbs.dreamstime.com/b/yellow-sweet-mango-fruit-asia-fruit-natural-background-54511133.jpg\n",
            "[%] File Downloaded !\n",
            "\n",
            "[%] Downloading Image #10 from https://thumbs.dreamstime.com/z/three-yellow-mango-leaf-focus-center-fruit-31117211.jpg\n",
            "[%] File Downloaded !\n",
            "\n",
            "[%] Downloading Image #11 from https://thumbs.dreamstime.com/z/yellow-mango-23269526.jpg\n",
            "[%] File Downloaded !\n",
            "\n",
            "[%] Downloading Image #12 from https://static1.bigstockphoto.com/5/7/1/large1500/175017139.jpg\n",
            "[%] File Downloaded !\n",
            "\n",
            "[%] Downloading Image #13 from https://c8.alamy.com/comp/WFKTXA/isolated-mango-fruit-tree-branch-with-leaves-and-one-yellow-mango-isolated-on-white-background-with-clipping-path-WFKTXA.jpg\n",
            "[%] File Downloaded !\n",
            "\n",
            "[%] Downloading Image #14 from https://thumbs.dreamstime.com/z/yellow-mango-fruit-9354733.jpg\n",
            "[%] File Downloaded !\n",
            "\n",
            "[%] Downloading Image #15 from https://thumbs.dreamstime.com/z/yellow-ripe-mango-tropical-fruit-leaf-isolated-white-background-organic-ripe-yellow-mango-tropical-fruit-123879413.jpg\n",
            "[%] File Downloaded !\n",
            "\n",
            "[%] Downloading Image #16 from http://www.namdharithaifresh.com/wp-content/uploads/2017/07/s_28387085_xl.jpg\n",
            "[%] File Downloaded !\n",
            "\n",
            "[%] Downloading Image #17 from https://thumbs.dreamstime.com/z/sweet-yellow-mango-fruit-summer-wood-table-sweet-yellow-mango-fruit-summer-wood-table-113907226.jpg\n",
            "[%] File Downloaded !\n",
            "\n",
            "[%] Downloading Image #18 from https://thumbs.dreamstime.com/z/yellow-mango-closeup-leaf-49935262.jpg\n",
            "[%] File Downloaded !\n",
            "\n",
            "[%] Downloading Image #19 from https://www.mango.org/wp-content/uploads/2017/11/houney-variety.jpg\n",
            "[%] File Downloaded !\n",
            "\n",
            "[%] Downloading Image #20 from http://all4desktop.com/data_images/original/4241756-mango.jpg\n",
            "[%] File Downloaded !\n",
            "\n",
            "[%] Downloading Image #21 from https://4.imimg.com/data4/AT/RM/MY-29356566/indian-mangoes-500x500.jpg\n",
            "[%] File Downloaded !\n",
            "\n",
            "[%] Downloading Image #22 from https://thumbs.dreamstime.com/z/yellow-mango-fruit-43052482.jpg\n",
            "[%] File Downloaded !\n",
            "\n",
            "[%] Downloading Image #23 from https://www.mygreenmart.in/wp-content/uploads/2017/02/Yellow-Mango.jpg\n",
            "[%] File Downloaded !\n",
            "\n",
            "[%] Downloading Image #24 from https://thumbs.dreamstime.com/z/yellow-mango-thai-fruit-favorite-26233851.jpg\n",
            "[%] File Downloaded !\n",
            "\n",
            "[%] Downloading Image #25 from https://thumbs.dreamstime.com/z/yellow-mango-23822977.jpg\n",
            "[%] File Downloaded !\n",
            "\n",
            "[%] Downloading Image #26 from https://i.pinimg.com/originals/52/a0/f9/52a0f9008df9bbd348070397372417b3.jpg\n",
            "[%] File Downloaded !\n",
            "\n",
            "[%] Downloading Image #27 from https://hdwallpapers.move.pk/wp-content/uploads/2016/06/Yellow-mango-HD-wallpaper.jpg\n",
            "[%] File Downloaded !\n",
            "\n",
            "[%] Downloading Image #28 from http://thumbs.dreamstime.com/z/yellow-mango-bowl-thai-fruit-favorite-white-background-31056521.jpg\n",
            "[%] File Downloaded !\n",
            "\n",
            "[%] Downloading Image #29 from https://media.buzzle.com/media/images-en/gallery/vegetables/1200-177709673-mangoes.jpg\n",
            "[%] File Downloaded !\n",
            "\n",
            "[%] Downloading Image #30 from http://4.bp.blogspot.com/-VzuCS_iez-M/T_c2xKA6N5I/AAAAAAAAACk/H35U20YUJw8/s1600/mangoes_1535816_200.jpg\n",
            "[%] File Downloaded !\n",
            "\n"
          ],
          "name": "stdout"
        }
      ]
    },
    {
      "cell_type": "code",
      "metadata": {
        "id": "t6Hh3TWgvWFK"
      },
      "source": [
        ""
      ],
      "execution_count": 82,
      "outputs": []
    },
    {
      "cell_type": "code",
      "metadata": {
        "id": "gZQmY09Pk8Q0"
      },
      "source": [
        "#preproceesing of data\n",
        "import os                              #for moving around different folders\n",
        "import matplotlib.pyplot as plt       #for display of images\n",
        "import numpy as np                     #for numerical analysis\n",
        "from skimage.io import imread          #for reading images\n",
        "from skimage.transform import resize    #for normalizing all images to same size\n",
        "\n",
        "target=[]\n",
        "images=[]\n",
        "flat_data=[]\n",
        "DATADIR=\"/content/images\"\n",
        "CATEGORIES=['apple fruit','yellow mango fruit']\n",
        "for fruit in CATEGORIES:\n",
        "   class_num=CATEGORIES.index(fruit)\n",
        "  # print(class_num)\n",
        "   path=os.path.join(DATADIR,fruit)\n",
        "  # print(path)\n",
        "   for img in os.listdir(path):\n",
        "    #print(img)\n",
        "    img_array=imread(os.path.join(path,img))\n",
        "    #print(img_array)\n",
        "   # print(img_array.shape)\n",
        "    #plt.imshow(img_array)\n",
        "    img_resized=resize(img_array,(150,150,3))\n",
        "    flat_data.append(img_resized.flatten())\n",
        "    images.append(img_resized)    #not used anywhere just for reference\n",
        "    target.append(class_num)\n",
        "  "
      ],
      "execution_count": 83,
      "outputs": []
    },
    {
      "cell_type": "code",
      "metadata": {
        "id": "3sCOYLS5yA0Q"
      },
      "source": [
        "target=np.array(target)\n",
        "images=np.array(images)\n",
        "flat_data=np.array(flat_data)\n",
        "\n"
      ],
      "execution_count": 84,
      "outputs": []
    },
    {
      "cell_type": "code",
      "metadata": {
        "id": "4A1B8P3VyiOD"
      },
      "source": [
        "#flat_data             #sklearn normalises values from 0-255 to those between 0-1\n",
        "#len(flat_data[0])\n"
      ],
      "execution_count": 85,
      "outputs": []
    },
    {
      "cell_type": "code",
      "metadata": {
        "id": "5cZGQ2IIzYHl"
      },
      "source": [
        "#target"
      ],
      "execution_count": 86,
      "outputs": []
    },
    {
      "cell_type": "code",
      "metadata": {
        "id": "vyUfFDdDzpYz"
      },
      "source": [
        "unique,count=np.unique(target,return_counts=True)\n",
        "#plt.bar(CATEGORIES,count)"
      ],
      "execution_count": 87,
      "outputs": []
    },
    {
      "cell_type": "code",
      "metadata": {
        "id": "3QID14jw1u3z"
      },
      "source": [
        "from sklearn.model_selection import train_test_split\n",
        "x_train,x_test,y_train,y_test=train_test_split(flat_data,target,test_size=0.20,random_state=42)"
      ],
      "execution_count": 88,
      "outputs": []
    },
    {
      "cell_type": "code",
      "metadata": {
        "id": "sGribACW1kR9",
        "outputId": "742ba173-32f4-437e-e49b-34b105455572",
        "colab": {
          "base_uri": "https://localhost:8080/",
          "height": 272
        }
      },
      "source": [
        "from sklearn.model_selection import GridSearchCV\n",
        "from sklearn import svm\n",
        "# create a grid of hyper-parameters and just try all of their combinations (best is taken by GridSearchCV)\n",
        "param_grid=[\n",
        "            {'C':[10,100,1000],\"kernel\":['linear']},\n",
        "            {'C':[100,1000],\"kernel\":[\"sigmoid\"],\"gamma\":[0.001,0.0001]},\n",
        "            {'C':[10,100,1000],'kernel':['rbf'],'gamma':[0.01,0.001,0.0001]},\n",
        "]\n",
        "#whichever group(among given three groups) gives best pattern that is chosen by GridSearchCV \n",
        "svc=svm.SVC(probability=True)\n",
        "imgclf=GridSearchCV(svc,param_grid)\n",
        "imgclf.fit(x_train,y_train)"
      ],
      "execution_count": 89,
      "outputs": [
        {
          "output_type": "execute_result",
          "data": {
            "text/plain": [
              "GridSearchCV(cv=None, error_score=nan,\n",
              "             estimator=SVC(C=1.0, break_ties=False, cache_size=200,\n",
              "                           class_weight=None, coef0=0.0,\n",
              "                           decision_function_shape='ovr', degree=3,\n",
              "                           gamma='scale', kernel='rbf', max_iter=-1,\n",
              "                           probability=True, random_state=None, shrinking=True,\n",
              "                           tol=0.001, verbose=False),\n",
              "             iid='deprecated', n_jobs=None,\n",
              "             param_grid=[{'C': [10, 100, 1000], 'kernel': ['linear']},\n",
              "                         {'C': [100, 1000], 'gamma': [0.001, 0.0001],\n",
              "                          'kernel': ['sigmoid']},\n",
              "                         {'C': [10, 100, 1000], 'gamma': [0.01, 0.001, 0.0001],\n",
              "                          'kernel': ['rbf']}],\n",
              "             pre_dispatch='2*n_jobs', refit=True, return_train_score=False,\n",
              "             scoring=None, verbose=0)"
            ]
          },
          "metadata": {
            "tags": []
          },
          "execution_count": 89
        }
      ]
    },
    {
      "cell_type": "code",
      "metadata": {
        "id": "JExlI7NfHs0K",
        "outputId": "38c95249-483c-40fc-971b-6a236bbc6062",
        "colab": {
          "base_uri": "https://localhost:8080/",
          "height": 34
        }
      },
      "source": [
        "y_pred=imgclf.predict(x_test)\n",
        "y_pred"
      ],
      "execution_count": 93,
      "outputs": [
        {
          "output_type": "execute_result",
          "data": {
            "text/plain": [
              "array([0, 0, 1, 1, 1, 1, 1, 1, 0, 1, 1, 1])"
            ]
          },
          "metadata": {
            "tags": []
          },
          "execution_count": 93
        }
      ]
    },
    {
      "cell_type": "code",
      "metadata": {
        "id": "vtL4dU55IEiY",
        "outputId": "39967dfa-3313-4ce3-f875-07b6ad824eba",
        "colab": {
          "base_uri": "https://localhost:8080/",
          "height": 34
        }
      },
      "source": [
        "y_test"
      ],
      "execution_count": 95,
      "outputs": [
        {
          "output_type": "execute_result",
          "data": {
            "text/plain": [
              "array([0, 0, 1, 1, 0, 1, 1, 1, 0, 1, 1, 1])"
            ]
          },
          "metadata": {
            "tags": []
          },
          "execution_count": 95
        }
      ]
    },
    {
      "cell_type": "code",
      "metadata": {
        "id": "rHgE-GKMHRHV",
        "outputId": "77ce1503-a6a8-482b-faba-ec61170ed899",
        "colab": {
          "base_uri": "https://localhost:8080/",
          "height": 34
        }
      },
      "source": [
        "from sklearn.metrics import confusion_matrix,accuracy_score\n",
        "accuracy_score(y_pred,y_test)"
      ],
      "execution_count": 94,
      "outputs": [
        {
          "output_type": "execute_result",
          "data": {
            "text/plain": [
              "0.9166666666666666"
            ]
          },
          "metadata": {
            "tags": []
          },
          "execution_count": 94
        }
      ]
    },
    {
      "cell_type": "code",
      "metadata": {
        "id": "wmCIUYScIQtF",
        "outputId": "f232a403-0d7d-4021-ce87-8a8744083d61",
        "colab": {
          "base_uri": "https://localhost:8080/",
          "height": 51
        }
      },
      "source": [
        "confusion_matrix(y_pred,y_test)"
      ],
      "execution_count": 97,
      "outputs": [
        {
          "output_type": "execute_result",
          "data": {
            "text/plain": [
              "array([[3, 0],\n",
              "       [1, 8]])"
            ]
          },
          "metadata": {
            "tags": []
          },
          "execution_count": 97
        }
      ]
    },
    {
      "cell_type": "code",
      "metadata": {
        "id": "UC0XHLepJZEm"
      },
      "source": [
        "#save the model using pickle library\n",
        "import pickle\n",
        "pickle.dump(imgclf,open('imgclf_model.p','wb'))\n",
        "model=pickle.load(open('imgclf_model.p',\"rb\"))\n"
      ],
      "execution_count": 100,
      "outputs": []
    },
    {
      "cell_type": "code",
      "metadata": {
        "id": "-0jobbxrLKmf",
        "outputId": "f32428a4-b56a-4d35-fd30-225150845584",
        "colab": {
          "base_uri": "https://localhost:8080/",
          "height": 320
        }
      },
      "source": [
        "#testing for a new image\n",
        "flat_data=[]\n",
        "url=input(\"enter the url of the testing image:\")\n",
        "img= imread(url)\n",
        "img_resized=resize(img,(150,150,3))\n",
        "flat_data.append(img_resized.flatten())\n",
        "flat_data=np.array(flat_data)\n",
        "print(img.shape)\n",
        "plt.imshow(img_resized)\n",
        "y_out=model.predict(flat_data)\n",
        "y_out=CATEGORIES[y_out[0]]\n",
        "print(\"The predicted output is:\",y_out)"
      ],
      "execution_count": 107,
      "outputs": [
        {
          "output_type": "stream",
          "text": [
            "enter the url of the testing image:https://images-na.ssl-images-amazon.com/images/I/41EvGpCFECL.jpg\n",
            "(375, 500, 3)\n",
            "The predicted output is: yellow mango fruit\n"
          ],
          "name": "stdout"
        },
        {
          "output_type": "display_data",
          "data": {
            "image/png": "[encoded data removed]",
            "text/plain": [
              "<Figure size 432x288 with 1 Axes>"
            ]
          },
          "metadata": {
            "tags": [],
            "needs_background": "light"
          }
        }
      ]
    },
    {
      "cell_type": "code",
      "metadata": {
        "id": "XeLvw-_eK9IR"
      },
      "source": [
        ""
      ],
      "execution_count": null,
      "outputs": []
    },
    {
      "cell_type": "code",
      "metadata": {
        "id": "8izOnrKhGk82"
      },
      "source": [
        ""
      ],
      "execution_count": 90,
      "outputs": []
    },
    {
      "cell_type": "markdown",
      "metadata": {
        "id": "0qzYpkXWmVwX"
      },
      "source": [
        ""
      ]
    },
    {
      "cell_type": "code",
      "metadata": {
        "id": "JJUx0jdqwK2p"
      },
      "source": [
        ""
      ],
      "execution_count": 90,
      "outputs": []
    },
    {
      "cell_type": "markdown",
      "metadata": {
        "id": "cucNE6aTMF0z"
      },
      "source": [
        "# New Section"
      ]
    },
    {
      "cell_type": "code",
      "metadata": {
        "id": "ee_x6UujN9Dw"
      },
      "source": [
        "\n"
      ],
      "execution_count": 90,
      "outputs": []
    }
  ]
}